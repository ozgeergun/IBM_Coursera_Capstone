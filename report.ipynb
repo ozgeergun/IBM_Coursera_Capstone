{
  "nbformat": 4,
  "nbformat_minor": 0,
  "metadata": {
    "colab": {
      "name": "report.ipynb",
      "provenance": [],
      "authorship_tag": "ABX9TyPeAIk4GjkQsQ9lh5eRxtdt",
      "include_colab_link": true
    },
    "kernelspec": {
      "name": "python3",
      "display_name": "Python 3"
    }
  },
  "cells": [
    {
      "cell_type": "markdown",
      "metadata": {
        "id": "view-in-github",
        "colab_type": "text"
      },
      "source": [
        "<a href=\"https://colab.research.google.com/github/ozgeergun/IBM_Coursera_Capstone/blob/master/report.ipynb\" target=\"_parent\"><img src=\"https://colab.research.google.com/assets/colab-badge.svg\" alt=\"Open In Colab\"/></a>"
      ]
    },
    {
      "cell_type": "markdown",
      "metadata": {
        "id": "VmlK4BIpE4vK",
        "colab_type": "text"
      },
      "source": [
        "1.1 Background\n",
        "As someone who loves travelling, finding ways to save money and travel low-cost is essential. There's little to save while booking flights and I'd rather pay more to traveling comfortably on a 16Hr flight than try to save and wear myself down even before the trip begins! But we can always save a few bucks on accomodation.\n",
        "\n",
        "A hostel is a low-budget accommodation shared among travelers. Staying at hostels is an extremely affordable option for travelers. Not only that, It also gives you a chance to expereince which you would never at a hotel. I've found that experiencing hostel life one of the best ways to travel the world on a budget and here’s why:\n",
        "\n",
        "You'll save a lot of money trust me.\n",
        "Meet other like-minded travellers and make new friends around the world!\n",
        "Most hostels organize lot of social activites\n",
        "\n",
        "\n",
        "1.2 Business Understanding/Problem Description:\n",
        "Hostel accomodation is a booming industry with the latest rise in tourism worldwide, especially in Asia. Over 20% of the total tourists worldwide are aged between 19-25. And around 80% of them prefer to spend less on accomodation by opting for hostels. This means the demand for hostels is only going to grow further and more people would want to get their legs in the game.\n",
        "\n",
        "How should a new business person decide where to open a hostel?\n",
        "What factors should he look at before investing?\n",
        "Which neighborhood venues affect a user's rating for location of hostel?\n",
        "At the same time, it is difficult for a travellers, especially first-timers, to select a hostel from among many options. Hostel reviews are subjective and differ from person-to-person and one cannot solely depend on them to make a decision. It is especially important to consider other aspects like price and neighborhood, which can greatly influence one's experience of the city/country. I will try to answer the following questions\n",
        "\n",
        "How does price vary with location?\n",
        "Where are the 'value of money' hostels located?\n",
        "How does proximity to transportation affect hostel rating?\n",
        "Which hostels are most secure and where are they located?\n",
        "Suggest similar hostel but which cheaper price\n",
        "Tourism in Japan in on a rise. It is expected that the number of foreign tourists coming to Japan will be increasing till 2020 when Olympic will be held in Tokyo. Hence, for this project, we will be looking at hostels in Japan, in particular, Tokyo.\n",
        "\n",
        "\n",
        "1.3 Target Audience\n",
        "This project will serve two groups of audience:\n",
        "\n",
        "Travellers: Help them make an informed decision while choosing a hostel by providing an in-depth analysis of hostels and their neighborhood.\n",
        "Business Person: Provide useful information and models which can help them where to open their first/next hostel.\n",
        "\n",
        "\n",
        "2. Data Requirements\n",
        "I analysed in this project : Tokyo. Following are the datasets used in the project:\n",
        "\n",
        "Japan Hostel Dataset\n",
        "Hostel Neighborhood\n",
        "Tokyo Land Price\n",
        "2.1 Japan Hostel Dataset:\n",
        "The original dataset on kaggle has the following columns:\n",
        "\n",
        "hostel.name: Hostel Name\n",
        "City: City name where hostel is located in\n",
        "price.from: Minimum Price for 1 night stay\n",
        "Distance: Distance from city center (km)\n",
        "summary.score: Summary score of ratings\n",
        "rating.band: Rating band\n",
        "atmosphere: Rating score of atmosphere\n",
        "cleanliness: Rating score of cleanliness\n",
        "facilities: Rating score of falicities\n",
        "location: Rating score of location\n",
        "security: Rating score of security\n",
        "staff: Rating score of staff\n",
        "valueformoney: Rating score of value for money\n",
        "lon: Longitude\n",
        "lat: Latitude\n",
        "\n",
        "Hostel Dataset\n",
        "\n",
        "2.2 Hostel Neighborhood:\n",
        "This dataset contains all the neighborhoods or venues within 500m radius of a Hostel. It has the following columns:\n",
        "\n",
        "HostelName: Name of the hostel\n",
        "VenueName: Name of the venue\n",
        "Category: It is the primary category of the venue, for eg. Café, Train Station, Restaurant.\n",
        "VenueLatitude, VenueLongitude: Coordinates of the venue.\n",
        "\n",
        "2.3 Tokyo Land Price:\n",
        "This dataset contains the locality name and the average price of land per square meter.\n",
        "\n",
        "\n",
        "\n"
      ]
    }
  ]
}