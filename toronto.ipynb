{
  "nbformat": 4,
  "nbformat_minor": 0,
  "metadata": {
    "colab": {
      "name": "toronto.ipynb",
      "provenance": [],
      "collapsed_sections": [],
      "authorship_tag": "ABX9TyNSNU4GcGmUoJ/iJNSOs3Qv",
      "include_colab_link": true
    },
    "kernelspec": {
      "name": "python3",
      "display_name": "Python 3"
    }
  },
  "cells": [
    {
      "cell_type": "markdown",
      "metadata": {
        "id": "view-in-github",
        "colab_type": "text"
      },
      "source": [
        "<a href=\"https://colab.research.google.com/github/ozgeergun/IBM_Coursera_Capstone/blob/master/toronto.ipynb\" target=\"_parent\"><img src=\"https://colab.research.google.com/assets/colab-badge.svg\" alt=\"Open In Colab\"/></a>"
      ]
    },
    {
      "cell_type": "code",
      "metadata": {
        "id": "SntJnIN18K8v",
        "colab_type": "code",
        "colab": {}
      },
      "source": [
        "#!pip install --upgrade requests branca six jinja2 numpy chardet idna urllib3 certifi MarkupSafe\n",
        "#!conda install -c conda-forge folium --yes\n",
        "#!conda install -c conda-forge geopy --yes\n",
        "#!conda install -c conda-forge wordcloud==1.4.1 --yes\n",
        "import numpy as np\n",
        "import pandas as pd\n",
        "import requests\n",
        "import random\n",
        "from sklearn.cluster import KMeans\n",
        "from pandas.io.json import json_normalize\n",
        "import folium\n",
        "from folium.plugins import MiniMap\n",
        "from geopy.geocoders import Nominatim\n",
        "import json\n",
        "import matplotlib.pyplot as plt\n",
        "import matplotlib.cm as cm\n",
        "import matplotlib.colors as colors\n",
        "from sklearn import metrics\n",
        "from PIL import Image\n",
        "import matplotlib.patches as mpatches\n",
        "from wordcloud import WordCloud, get_single_color_func"
      ],
      "execution_count": 0,
      "outputs": []
    },
    {
      "cell_type": "code",
      "metadata": {
        "id": "F5HGp8IE8KDL",
        "colab_type": "code",
        "colab": {}
      },
      "source": [
        "webPage = requests.get(\"https://en.wikipedia.org/wiki/List_of_postal_codes_of_Canada:_M\")\n",
        "html = webPage.text                                                                       \n",
        "tableInit = html.find('<table class=\"wikitable sortable\">')                            \n",
        "tableFinal = html.find('</table>')                                                      \n",
        "htmlTable = html[tableInit:tableFinal]"
      ],
      "execution_count": 0,
      "outputs": []
    },
    {
      "cell_type": "code",
      "metadata": {
        "id": "VnxvhrRk8Qxv",
        "colab_type": "code",
        "colab": {}
      },
      "source": [
        "table = pd.read_html(htmlTable, header = 0)[0]                                            \n",
        "table[\"Borough\"] = table[\"Borough\"].replace({\"Not assigned\":np.nan})                \n",
        "table.dropna(inplace = True)                                                          \n",
        "table.where(table != \"Not assigned\", table[\"Borough\"], axis = 0, inplace = True)      \n",
        "joinedRows = table.groupby(\"Postcode\")[\"Neighbourhood\"].apply(lambda x: \", \".join(x)) \n",
        "table.drop_duplicates([\"Postcode\"],inplace = True)                                    \n",
        "df = table.join(joinedRows, on = \"Postcode\", lsuffix='_single')                       \n",
        "df.drop(columns = [\"Neighbourhood_single\"], inplace = True)                         \n",
        "df.reset_index(drop = True, inplace = True)"
      ],
      "execution_count": 0,
      "outputs": []
    },
    {
      "cell_type": "code",
      "metadata": {
        "id": "Xto-CvLL8Q9H",
        "colab_type": "code",
        "colab": {
          "base_uri": "https://localhost:8080/",
          "height": 34
        },
        "outputId": "c26a3de6-ad3f-4ae3-e990-b5a58867ff9a"
      },
      "source": [
        "df.shape"
      ],
      "execution_count": 4,
      "outputs": [
        {
          "output_type": "execute_result",
          "data": {
            "text/plain": [
              "(103, 3)"
            ]
          },
          "metadata": {
            "tags": []
          },
          "execution_count": 4
        }
      ]
    },
    {
      "cell_type": "code",
      "metadata": {
        "id": "BkdPir4d-w8V",
        "colab_type": "code",
        "colab": {
          "base_uri": "https://localhost:8080/",
          "height": 50
        },
        "outputId": "5bce3b7c-7f4f-41e0-d506-fe2cd44dfea6"
      },
      "source": [
        "!wget -q -O 'Geospatial_Coordinates.csv' http://cocl.us/Geospatial_data\n",
        "geo = pd.read_csv(\"Geospatial_Coordinates.csv\", index_col = 0)         \n",
        "neighborhoods_to = df.join(geo, on = \"Postcode\")\n",
        "\n",
        "#Take only those neighborhoods that contain the word Toronto\n",
        "neighborhoods_to = neighborhoods_to[neighborhoods_to['Borough'].str.contains('Toronto')].reset_index(drop=True)\n",
        "print(\"\\n{} neighborhoods found in the city of Toronto.\".format(neighborhoods_to.shape[0]))"
      ],
      "execution_count": 5,
      "outputs": [
        {
          "output_type": "stream",
          "text": [
            "\n",
            "39 neighborhoods found in the city of Toronto.\n"
          ],
          "name": "stdout"
        }
      ]
    },
    {
      "cell_type": "code",
      "metadata": {
        "id": "z9d9Pgnt_K_0",
        "colab_type": "code",
        "colab": {
          "base_uri": "https://localhost:8080/",
          "height": 639
        },
        "outputId": "dd739f00-5018-41c4-95a8-3db9cea6db7d"
      },
      "source": [
        "neighborhoods_to.head(n=20)"
      ],
      "execution_count": 7,
      "outputs": [
        {
          "output_type": "execute_result",
          "data": {
            "text/html": [
              "<div>\n",
              "<style scoped>\n",
              "    .dataframe tbody tr th:only-of-type {\n",
              "        vertical-align: middle;\n",
              "    }\n",
              "\n",
              "    .dataframe tbody tr th {\n",
              "        vertical-align: top;\n",
              "    }\n",
              "\n",
              "    .dataframe thead th {\n",
              "        text-align: right;\n",
              "    }\n",
              "</style>\n",
              "<table border=\"1\" class=\"dataframe\">\n",
              "  <thead>\n",
              "    <tr style=\"text-align: right;\">\n",
              "      <th></th>\n",
              "      <th>Postcode</th>\n",
              "      <th>Borough</th>\n",
              "      <th>Neighbourhood</th>\n",
              "      <th>Latitude</th>\n",
              "      <th>Longitude</th>\n",
              "    </tr>\n",
              "  </thead>\n",
              "  <tbody>\n",
              "    <tr>\n",
              "      <th>0</th>\n",
              "      <td>M5A</td>\n",
              "      <td>Downtown Toronto</td>\n",
              "      <td>Harbourfront</td>\n",
              "      <td>43.654260</td>\n",
              "      <td>-79.360636</td>\n",
              "    </tr>\n",
              "    <tr>\n",
              "      <th>1</th>\n",
              "      <td>M7A</td>\n",
              "      <td>Downtown Toronto</td>\n",
              "      <td>Queen's Park</td>\n",
              "      <td>43.662301</td>\n",
              "      <td>-79.389494</td>\n",
              "    </tr>\n",
              "    <tr>\n",
              "      <th>2</th>\n",
              "      <td>M5B</td>\n",
              "      <td>Downtown Toronto</td>\n",
              "      <td>Ryerson, Garden District</td>\n",
              "      <td>43.657162</td>\n",
              "      <td>-79.378937</td>\n",
              "    </tr>\n",
              "    <tr>\n",
              "      <th>3</th>\n",
              "      <td>M5C</td>\n",
              "      <td>Downtown Toronto</td>\n",
              "      <td>St. James Town</td>\n",
              "      <td>43.651494</td>\n",
              "      <td>-79.375418</td>\n",
              "    </tr>\n",
              "    <tr>\n",
              "      <th>4</th>\n",
              "      <td>M4E</td>\n",
              "      <td>East Toronto</td>\n",
              "      <td>The Beaches</td>\n",
              "      <td>43.676357</td>\n",
              "      <td>-79.293031</td>\n",
              "    </tr>\n",
              "    <tr>\n",
              "      <th>5</th>\n",
              "      <td>M5E</td>\n",
              "      <td>Downtown Toronto</td>\n",
              "      <td>Berczy Park</td>\n",
              "      <td>43.644771</td>\n",
              "      <td>-79.373306</td>\n",
              "    </tr>\n",
              "    <tr>\n",
              "      <th>6</th>\n",
              "      <td>M5G</td>\n",
              "      <td>Downtown Toronto</td>\n",
              "      <td>Central Bay Street</td>\n",
              "      <td>43.657952</td>\n",
              "      <td>-79.387383</td>\n",
              "    </tr>\n",
              "    <tr>\n",
              "      <th>7</th>\n",
              "      <td>M6G</td>\n",
              "      <td>Downtown Toronto</td>\n",
              "      <td>Christie</td>\n",
              "      <td>43.669542</td>\n",
              "      <td>-79.422564</td>\n",
              "    </tr>\n",
              "    <tr>\n",
              "      <th>8</th>\n",
              "      <td>M5H</td>\n",
              "      <td>Downtown Toronto</td>\n",
              "      <td>Adelaide, King, Richmond</td>\n",
              "      <td>43.650571</td>\n",
              "      <td>-79.384568</td>\n",
              "    </tr>\n",
              "    <tr>\n",
              "      <th>9</th>\n",
              "      <td>M6H</td>\n",
              "      <td>West Toronto</td>\n",
              "      <td>Dovercourt Village, Dufferin</td>\n",
              "      <td>43.669005</td>\n",
              "      <td>-79.442259</td>\n",
              "    </tr>\n",
              "    <tr>\n",
              "      <th>10</th>\n",
              "      <td>M5J</td>\n",
              "      <td>Downtown Toronto</td>\n",
              "      <td>Harbourfront East, Toronto Islands, Union Station</td>\n",
              "      <td>43.640816</td>\n",
              "      <td>-79.381752</td>\n",
              "    </tr>\n",
              "    <tr>\n",
              "      <th>11</th>\n",
              "      <td>M6J</td>\n",
              "      <td>West Toronto</td>\n",
              "      <td>Little Portugal, Trinity</td>\n",
              "      <td>43.647927</td>\n",
              "      <td>-79.419750</td>\n",
              "    </tr>\n",
              "    <tr>\n",
              "      <th>12</th>\n",
              "      <td>M4K</td>\n",
              "      <td>East Toronto</td>\n",
              "      <td>The Danforth West, Riverdale</td>\n",
              "      <td>43.679557</td>\n",
              "      <td>-79.352188</td>\n",
              "    </tr>\n",
              "    <tr>\n",
              "      <th>13</th>\n",
              "      <td>M5K</td>\n",
              "      <td>Downtown Toronto</td>\n",
              "      <td>Design Exchange, Toronto Dominion Centre</td>\n",
              "      <td>43.647177</td>\n",
              "      <td>-79.381576</td>\n",
              "    </tr>\n",
              "    <tr>\n",
              "      <th>14</th>\n",
              "      <td>M6K</td>\n",
              "      <td>West Toronto</td>\n",
              "      <td>Brockton, Exhibition Place, Parkdale Village</td>\n",
              "      <td>43.636847</td>\n",
              "      <td>-79.428191</td>\n",
              "    </tr>\n",
              "    <tr>\n",
              "      <th>15</th>\n",
              "      <td>M4L</td>\n",
              "      <td>East Toronto</td>\n",
              "      <td>The Beaches West, India Bazaar</td>\n",
              "      <td>43.668999</td>\n",
              "      <td>-79.315572</td>\n",
              "    </tr>\n",
              "    <tr>\n",
              "      <th>16</th>\n",
              "      <td>M5L</td>\n",
              "      <td>Downtown Toronto</td>\n",
              "      <td>Commerce Court, Victoria Hotel</td>\n",
              "      <td>43.648198</td>\n",
              "      <td>-79.379817</td>\n",
              "    </tr>\n",
              "    <tr>\n",
              "      <th>17</th>\n",
              "      <td>M4M</td>\n",
              "      <td>East Toronto</td>\n",
              "      <td>Studio District</td>\n",
              "      <td>43.659526</td>\n",
              "      <td>-79.340923</td>\n",
              "    </tr>\n",
              "    <tr>\n",
              "      <th>18</th>\n",
              "      <td>M4N</td>\n",
              "      <td>Central Toronto</td>\n",
              "      <td>Lawrence Park</td>\n",
              "      <td>43.728020</td>\n",
              "      <td>-79.388790</td>\n",
              "    </tr>\n",
              "    <tr>\n",
              "      <th>19</th>\n",
              "      <td>M5N</td>\n",
              "      <td>Central Toronto</td>\n",
              "      <td>Roselawn</td>\n",
              "      <td>43.711695</td>\n",
              "      <td>-79.416936</td>\n",
              "    </tr>\n",
              "  </tbody>\n",
              "</table>\n",
              "</div>"
            ],
            "text/plain": [
              "   Postcode           Borough  ...   Latitude  Longitude\n",
              "0       M5A  Downtown Toronto  ...  43.654260 -79.360636\n",
              "1       M7A  Downtown Toronto  ...  43.662301 -79.389494\n",
              "2       M5B  Downtown Toronto  ...  43.657162 -79.378937\n",
              "3       M5C  Downtown Toronto  ...  43.651494 -79.375418\n",
              "4       M4E      East Toronto  ...  43.676357 -79.293031\n",
              "5       M5E  Downtown Toronto  ...  43.644771 -79.373306\n",
              "6       M5G  Downtown Toronto  ...  43.657952 -79.387383\n",
              "7       M6G  Downtown Toronto  ...  43.669542 -79.422564\n",
              "8       M5H  Downtown Toronto  ...  43.650571 -79.384568\n",
              "9       M6H      West Toronto  ...  43.669005 -79.442259\n",
              "10      M5J  Downtown Toronto  ...  43.640816 -79.381752\n",
              "11      M6J      West Toronto  ...  43.647927 -79.419750\n",
              "12      M4K      East Toronto  ...  43.679557 -79.352188\n",
              "13      M5K  Downtown Toronto  ...  43.647177 -79.381576\n",
              "14      M6K      West Toronto  ...  43.636847 -79.428191\n",
              "15      M4L      East Toronto  ...  43.668999 -79.315572\n",
              "16      M5L  Downtown Toronto  ...  43.648198 -79.379817\n",
              "17      M4M      East Toronto  ...  43.659526 -79.340923\n",
              "18      M4N   Central Toronto  ...  43.728020 -79.388790\n",
              "19      M5N   Central Toronto  ...  43.711695 -79.416936\n",
              "\n",
              "[20 rows x 5 columns]"
            ]
          },
          "metadata": {
            "tags": []
          },
          "execution_count": 7
        }
      ]
    }
  ]
}