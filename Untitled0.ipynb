{
  "nbformat": 4,
  "nbformat_minor": 0,
  "metadata": {
    "colab": {
      "name": "Untitled0.ipynb",
      "provenance": [],
      "authorship_tag": "ABX9TyOjVwGRxHsdSWRk5btYpp2Q",
      "include_colab_link": true
    },
    "kernelspec": {
      "name": "python3",
      "display_name": "Python 3"
    }
  },
  "cells": [
    {
      "cell_type": "markdown",
      "metadata": {
        "id": "view-in-github",
        "colab_type": "text"
      },
      "source": [
        "<a href=\"https://colab.research.google.com/github/ozgeergun/IBM_Coursera_Capstone/blob/master/Untitled0.ipynb\" target=\"_parent\"><img src=\"https://colab.research.google.com/assets/colab-badge.svg\" alt=\"Open In Colab\"/></a>"
      ]
    },
    {
      "cell_type": "code",
      "metadata": {
        "id": "SntJnIN18K8v",
        "colab_type": "code",
        "colab": {}
      },
      "source": [
        "#!pip install --upgrade requests branca six jinja2 numpy chardet idna urllib3 certifi MarkupSafe\n",
        "#!conda install -c conda-forge folium --yes\n",
        "#!conda install -c conda-forge geopy --yes\n",
        "#!conda install -c conda-forge wordcloud==1.4.1 --yes\n",
        "import numpy as np\n",
        "import pandas as pd\n",
        "import requests\n",
        "import random\n",
        "from sklearn.cluster import KMeans\n",
        "from pandas.io.json import json_normalize\n",
        "import folium\n",
        "from folium.plugins import MiniMap\n",
        "from geopy.geocoders import Nominatim\n",
        "import json\n",
        "import matplotlib.pyplot as plt\n",
        "import matplotlib.cm as cm\n",
        "import matplotlib.colors as colors\n",
        "from sklearn import metrics\n",
        "from PIL import Image\n",
        "import matplotlib.patches as mpatches\n",
        "from wordcloud import WordCloud, get_single_color_func"
      ],
      "execution_count": 0,
      "outputs": []
    },
    {
      "cell_type": "code",
      "metadata": {
        "id": "F5HGp8IE8KDL",
        "colab_type": "code",
        "colab": {}
      },
      "source": [
        "webPage = requests.get(\"https://en.wikipedia.org/wiki/List_of_postal_codes_of_Canada:_M\")\n",
        "html = webPage.text                                                                       \n",
        "tableInit = html.find('<table class=\"wikitable sortable\">')                            \n",
        "tableFinal = html.find('</table>')                                                      \n",
        "htmlTable = html[tableInit:tableFinal]"
      ],
      "execution_count": 0,
      "outputs": []
    },
    {
      "cell_type": "code",
      "metadata": {
        "id": "VnxvhrRk8Qxv",
        "colab_type": "code",
        "colab": {}
      },
      "source": [
        "table = pd.read_html(htmlTable, header = 0)[0]                                            \n",
        "table[\"Borough\"] = table[\"Borough\"].replace({\"Not assigned\":np.nan})                \n",
        "table.dropna(inplace = True)                                                          \n",
        "table.where(table != \"Not assigned\", table[\"Borough\"], axis = 0, inplace = True)      \n",
        "joinedRows = table.groupby(\"Postcode\")[\"Neighbourhood\"].apply(lambda x: \", \".join(x)) \n",
        "table.drop_duplicates([\"Postcode\"],inplace = True)                                    \n",
        "df = table.join(joinedRows, on = \"Postcode\", lsuffix='_single')                       \n",
        "df.drop(columns = [\"Neighbourhood_single\"], inplace = True)                         \n",
        "df.reset_index(drop = True, inplace = True)"
      ],
      "execution_count": 0,
      "outputs": []
    },
    {
      "cell_type": "code",
      "metadata": {
        "id": "Xto-CvLL8Q9H",
        "colab_type": "code",
        "colab": {
          "base_uri": "https://localhost:8080/",
          "height": 34
        },
        "outputId": "b3afe874-95d9-4e3c-f773-fa49ee82b8ab"
      },
      "source": [
        "df.shape"
      ],
      "execution_count": 5,
      "outputs": [
        {
          "output_type": "execute_result",
          "data": {
            "text/plain": [
              "(103, 3)"
            ]
          },
          "metadata": {
            "tags": []
          },
          "execution_count": 5
        }
      ]
    }
  ]
}